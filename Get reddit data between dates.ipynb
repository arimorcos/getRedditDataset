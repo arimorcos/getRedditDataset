{
 "cells": [
  {
   "cell_type": "code",
   "execution_count": 1,
   "metadata": {
    "collapsed": true
   },
   "outputs": [],
   "source": [
    "import redditDataset\n",
    "import praw\n",
    "r = praw.Reddit(user_agent='date_test')"
   ]
  },
  {
   "cell_type": "code",
   "execution_count": 4,
   "metadata": {
    "collapsed": true
   },
   "outputs": [],
   "source": [
    "reload(redditDataset)\n",
    "sub = redditDataset.getSubreddits(r, ['funny'])\n",
    "sub = sub.next()"
   ]
  },
  {
   "cell_type": "code",
   "execution_count": 11,
   "metadata": {
    "collapsed": false,
    "scrolled": true
   },
   "outputs": [
    {
     "data": {
      "text/plain": [
       "u'http://imgur.com/a/SjcgE'"
      ]
     },
     "execution_count": 11,
     "metadata": {},
     "output_type": "execute_result"
    }
   ],
   "source": [
    "\"\"\" \n",
    "Get submission 202wd3\n",
    "http://www.reddit.com/r/funny/comments/202wd3/i_participated_in_one_of_the_biggest_magic_the/\n",
    "\"\"\"\n",
    "post = r.get_submission('http://www.reddit.com/r/funny/comments/202wd3/i_participated_in_one_of_the_biggest_magic_the/')\n"
   ]
  },
  {
   "cell_type": "code",
   "execution_count": 49,
   "metadata": {
    "collapsed": false
   },
   "outputs": [
    {
     "name": "stdout",
     "output_type": "stream",
     "text": [
      "timestamp:1388552400..1388638800\n"
     ]
    },
    {
     "data": {
      "text/plain": [
       "100"
      ]
     },
     "execution_count": 49,
     "metadata": {},
     "output_type": "execute_result"
    }
   ],
   "source": [
    "\"\"\"\n",
    "Get posts within timeframe\n",
    "\"\"\"\n",
    "import datetime, time\n",
    "startDate = '140101'\n",
    "endDate = '140102'\n",
    "\n",
    "startDate = time.mktime(datetime.datetime.strptime(startDate, \"%y%m%d\").timetuple())\n",
    "endDate = time.mktime(datetime.datetime.strptime(endDate, \"%y%m%d\").timetuple())\n",
    "\n",
    "\n",
    "searchTerm = 'timestamp:' + str(startDate)[:-2] + '..' + str(endDate)[:-2]\n",
    "print searchTerm\n",
    "\n",
    "posts = sub.search(searchTerm, sort='top', syntax='cloudsearch', limit=100)\n",
    "len(list(posts))\n"
   ]
  },
  {
   "cell_type": "code",
   "execution_count": 52,
   "metadata": {
    "collapsed": false
   },
   "outputs": [
    {
     "data": {
      "text/plain": [
       "961"
      ]
     },
     "execution_count": 52,
     "metadata": {},
     "output_type": "execute_result"
    }
   ],
   "source": [
    "# test function out \n",
    "reload(redditDataset)\n",
    "posts = redditDataset.getPostsWithinRange(sub, '140101', '140102')\n",
    "len(list(posts))"
   ]
  },
  {
   "cell_type": "code",
   "execution_count": 68,
   "metadata": {
    "collapsed": false
   },
   "outputs": [
    {
     "data": {
      "text/plain": [
       "100"
      ]
     },
     "execution_count": 68,
     "metadata": {},
     "output_type": "execute_result"
    }
   ],
   "source": [
    "# TEST COMBINING GENERATORS\n",
    "reload(redditDataset)\n",
    "import itertools\n",
    "gen1 = redditDataset.getPostsWithinRange(sub, '140101', '140102', nPosts=50)\n",
    "gen2 = redditDataset.getPostsWithinRange(sub, '140103', '140104', nPosts=50)\n",
    "fullgen = itertools.chain(gen1, gen2)\n",
    "empty = []\n",
    "emptygen = itertools.chain(empty, fullgen)\n",
    "len(list(emptygen))\n"
   ]
  },
  {
   "cell_type": "code",
   "execution_count": 96,
   "metadata": {
    "collapsed": false
   },
   "outputs": [],
   "source": [
    "# test fine scale function \n",
    "reload(redditDataset)\n",
    "posts = redditDataset.getAllPostsWithinRangeFineScale(sub, '140101', '140104', fineScale=12)"
   ]
  },
  {
   "cell_type": "code",
   "execution_count": 97,
   "metadata": {
    "collapsed": false,
    "scrolled": true
   },
   "outputs": [
    {
     "data": {
      "text/plain": [
       "4880"
      ]
     },
     "execution_count": 97,
     "metadata": {},
     "output_type": "execute_result"
    }
   ],
   "source": [
    "len(list(posts))"
   ]
  },
  {
   "cell_type": "code",
   "execution_count": null,
   "metadata": {
    "collapsed": true
   },
   "outputs": [],
   "source": []
  }
 ],
 "metadata": {
  "kernelspec": {
   "display_name": "Python 2",
   "language": "python",
   "name": "python2"
  },
  "language_info": {
   "codemirror_mode": {
    "name": "ipython",
    "version": 2
   },
   "file_extension": ".py",
   "mimetype": "text/x-python",
   "name": "python",
   "nbconvert_exporter": "python",
   "pygments_lexer": "ipython2",
   "version": "2.7.9"
  }
 },
 "nbformat": 4,
 "nbformat_minor": 0
}
