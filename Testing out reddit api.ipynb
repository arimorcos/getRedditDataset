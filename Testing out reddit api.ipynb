{
 "cells": [
  {
   "cell_type": "code",
   "execution_count": 2,
   "metadata": {
    "collapsed": false
   },
   "outputs": [],
   "source": [
    "import praw\n",
    "import redditDataset\n",
    "r = praw.Reddit(user_agent='get_comments')"
   ]
  },
  {
   "cell_type": "code",
   "execution_count": 9,
   "metadata": {
    "collapsed": false,
    "scrolled": false
   },
   "outputs": [
    {
     "name": "stdout",
     "output_type": "stream",
     "text": [
      "Current subreddit: learn programming\n",
      "Current post: Want to learn basic unix cmds? Learn it interactively with 'interactive-shell' script\n",
      "[u'ellisgeek', u'tempacct111', u'luikraken', u'ellisgeek', u'Johannes_Joestar', u'hdsdi', u'why_not_start_over', u'drifteresque', u'linuxlearningnewbie', u'Whoops-a-Daisy']\n",
      "Current post: [help] webscraping/xpath\n",
      "[u'michaelkepler', u'silvv', u'michaelkepler', u'silvv', u'michaelkepler', u'silvv', u'michaelkepler', u'silvv', u'michaelkepler', u'ReverseEngineerFox']\n",
      "Current post: I want to try to change the cloud to butt chrome extension a little but I'm not even 100% sure what the language is.\n",
      "[u'pacificmint', u'solid7', u'mr-fahrenheit_']\n",
      "Current post: C: Elements in an array formula explanation please\n",
      "[u'zifyoip', u'Deciama']\n",
      "Current post: [Ruby] My code works well on Sublime but CodeWars keeps returning an error\n",
      "[u'rcuhljr', u'1-800-XXX-XXXX', u'pmbotter', u'Egomaniacal_Pain']\n",
      "Current post: [c#] why doesn't this exist in current context?\n",
      "[u'deltageek', u'icebbyice', u'CNotSoSharp', u'icebbyice']\n",
      "Current post: How should I learn MEAN?\n",
      "[u'MadCapitalist', u'jhartikainen', u'Rodion91']\n",
      "Current post: [Java] Is there a way to test if an index of an int array has only been initialized by Java?\n",
      "[u'desrtfx', u'XunOnline', u'desrtfx', u'XunOnline', u'desrtfx', u'Windex007', u'XunOnline', u'wgormley', u'XunOnline', u'wgormley']\n",
      "Current post: [Java] can I set an int variable to more than one value?\n",
      "[u'zifyoip', u'nixon_richard_m', u'Magixxxx', u'cmekss', u'nixon_richard_m', u'Magixxxx', u'nixon_richard_m', u'desrtfx', u'rill2503456', u'mathen', u'eyePlus', u'rawrrang']\n",
      "Current post: Consuming twitter's streaming API in real time?\n",
      "[u'arbostek', u'sindbis', u'arbostek', u'sindbis', u'arbostek', u'ShadyCupcake']\n",
      "Current post: C# vs Go\n",
      "[u'lightcloud5', u'solid7', u'voidvector', u'butlerccreltub']\n",
      "Current post: Whats a good simple programming language to make a text base adventure game? Where could i learn it?\n",
      "[u'desrtfx', u'Splurge-Master', u'desrtfx']\n",
      "Current post: Trying to make a home web server using Apache Tomcat. I also just bought a Domain Name now how do I connect my webapp so it may be accesible publicly on the internet? Please help :)\n",
      "[u'corpsmoderne', u'RustyJar', u'heroOfTimeBitch', u'newaccount1236', u'heroOfTimeBitch', u'wolfcry0', u'BradChesney79', u'heroOfTimeBitch', u'BradChesney79']\n",
      "Current post: [.VB] Problem with strings and arrays\n",
      "[u'desrtfx', u'beestar95', u'desrtfx', u'beestar95']\n",
      "Current post: One object, many matching patterns\n",
      "[u'jrandm']\n",
      "Current post: What's a *good* programming language?\n",
      "[u'thoosequa', u'brainard52', u'ethergreen', u'the_omega99']\n",
      "Current post: [Web Development] Ruby vs Python vs PHP\n",
      "[u'RodionGork', u'mikeful92', u'fresh_prince_', u'vonnKlaus', u'jrandm', u'New_Document_37', u'farmerje', u'albertonreddit', u'dmazzoni', u'dmazzoni', u'Durzan666']\n",
      "Current post: Help! I don't understand flow of program [Assembly]\n",
      "[u'missblit']\n",
      "Current post: Frustrated with my programming skills. I've been thinking about quitting.\n",
      "[u'lightcloud5', u'projectpolak', u'ethergreen', u'rawrrang', u'darkraven418']\n",
      "Current post: [C][Short]Get current terminal path\n",
      "[u'zifyoip', u'kluuuuup', u'reddilada', u'kluuuuup']\n",
      "Current post: C++ SDL2 Game Programming Tutorial!\n",
      "[u'thoosequa', u'rekreantCS', u'thoosequa', u'rekreantCS', u'thoosequa', u'rekreantCS', u'thoosequa', u'rekreantCS']\n",
      "Current post: [C] - Problem\n",
      "[u'green_griffon', u'desintrinski', u'desintrinski', u'green_griffon', u'desintrinski', u'arbostek', u'desintrinski', u'arbostek', u'desintrinski', u'arbostek', u'desintrinski', u'enfrozt', u'desintrinski']\n",
      "Current post: How big do my changes need to be to warrant a git commit?\n",
      "[u'ponyoink', u'glemnar', u'jhartikainen', u'shloaner']\n",
      "Current post: Object oriented PHP vs procedural PHP?\n",
      "[u'yuogzer', u'ToBadForU', u'MrPopinjay', u'praesartus']\n",
      "Current post: C# using bool IsPrime\n",
      "[u'zifyoip', u'No_Smoking', u'langfod', u'ethergreen', u'lightcloud5']\n",
      "Current post: First Open source contribution and licenses\n",
      "[u'ianhedoesit', u'freezkyd']\n",
      "Current post: [Oracle] One to One Relationship coding questions\n",
      "[u'lightcloud5', u'IIoWoII', u'AgentCain']\n",
      "Current post: What books would you recommend to learn c# or python?\n",
      "[u'Noxia']\n",
      "Current post: Can I remove # Options +FollowSymLinks from the htaccess if I do page by page 301 redirects?\n",
      "[]\n",
      "Current post: Should i learn anything else before Swift?\n",
      "[u'YvesSoete']\n",
      "Current post: Streaming C# coding tutorials and stuff\n",
      "[]\n",
      "Current post: [Google script] \"Cannot convert Range to (class)\" error when using .getRange(row, numRows, column, numColumns)\n",
      "[]\n",
      "Current post: Split a string by empty entries\n",
      "[u'the_omega99']\n",
      "Current post: [PHP, Ruby, or other] Parsing text of website and displaying it on on my local homepage - language and getting started question\n",
      "[u'jrandm']\n",
      "Current post: What factors do Python developers consider when choosing which implementation to use?\n",
      "[u'ethergreen']\n",
      "Current post: [Java] Pulling integers from a string\n",
      "[u'G01denW01f11', u'ethergreen']\n",
      "Current post: [Homework][VB.NET] Do..Loop to find the occurrence of the word.\n",
      "[u'DarkWolfPtyLtd']\n",
      "Current post: Topics for Semester Project\n",
      "[]\n",
      "Current post: [C#] Fast 'closest point to another point' search? I think this has something to do with Oct trees but struggling to figure it out.\n",
      "[u'ethergreen']\n",
      "Current subreddit: Datasets Archive\n",
      "Current post: Open data about crime and policing in England, Wales and Northern Ireland\n",
      "[u'MyKungFuIsCat', u'cavedave']\n",
      "Current post: Every space launch (x-post from r/space)\n",
      "[]\n"
     ]
    }
   ],
   "source": [
    "\"\"\"\n",
    "Old version of createDataset which just prints output\n",
    "\"\"\"\n",
    "\n",
    "reload(redditDataset)\n",
    "subreddits = redditDataset.getSubreddits(r, ['learnprogramming', 'datasets'])\n",
    "redditDataset.createDataset(r, subreddits, dateRange='hour', nCommentsPerSubmission=20)"
   ]
  },
  {
   "cell_type": "code",
   "execution_count": 13,
   "metadata": {
    "collapsed": false
   },
   "outputs": [],
   "source": [
    "\"\"\"\n",
    "Testing out tables \n",
    "\"\"\" \n",
    "reload(redditDataset)\n",
    "c = redditDataset.initializeDatabase()"
   ]
  },
  {
   "cell_type": "code",
   "execution_count": 23,
   "metadata": {
    "collapsed": false,
    "scrolled": true
   },
   "outputs": [
    {
     "name": "stdout",
     "output_type": "stream",
     "text": [
      "Processing subreddit: learn programming\n",
      "Processing post: [Web Development] Ruby vs Python vs PHP\n",
      "Processing post: [C#] Fast 'closest point to another point' search? I think this has something to do with Oct trees but struggling to figure it out.\n",
      "Processing post: C: Elements in an array formula explanation please\n",
      "Processing post: Can you use regular JS with react? [please read description]\n",
      "Processing post: What are the essential abilities a programming language has to have in order for it to be useable in coding an operating system?\n",
      "Processing post: [Oracle SQL Dev] Missing comma error\n",
      "Processing post: What books would you recommend to learn c# or python?\n",
      "Processing post: How should I learn MEAN?\n",
      "Processing post: What's a *good* programming language?\n",
      "Processing post: Streaming C# coding tutorials and stuff\n",
      "Processing post: I want to try to change the cloud to butt chrome extension a little but I'm not even 100% sure what the language is.\n",
      "Processing post: C# vs Go\n",
      "Processing post: Whats a good simple programming language to make a text base adventure game? Where could i learn it?\n",
      "Processing post: Can we edit this sub to add quick search links to the different languages like \"Python\" \"C#\" \"PHP\" \"JS\" etc?\n",
      "Processing post: [.VB] Problem with strings and arrays\n",
      "Processing post: Moving items from a .txt file to MySQL\n",
      "Processing post: [Java] can I set an int variable to more than one value?\n",
      "Processing post: [C] - Problem\n",
      "Processing post: [Java] Quick question about reading a file\n",
      "Processing post: [C][Short]Get current terminal path\n",
      "Processing post: C# using bool IsPrime\n",
      "Processing post: [Homework][VB.NET] Do..Loop to find the occurrence of the word.\n",
      "Processing post: Structured programming course for beginners?\n",
      "Processing post: I have no idea what I'm doing, and I'm scared.\n",
      "Processing post: [Oracle] One to One Relationship coding questions\n",
      "Processing post: Would you reccomend 'C# 2005 For Dummies' to learn C#?\n",
      "Processing post: Consuming twitter's streaming API in real time?\n",
      "Processing post: Frustrated with my programming skills. I've been thinking about quitting.\n",
      "Processing post: I struggled with C pointers for the longest time. This cleared EVERYTHING up in about 5 minutes. Just wanted to share.\n",
      "Processing post: [Swift] Using Objective-C APIs in Swift(Dropbox Sync API)\n",
      "Processing post: How to send email via php\n",
      "Processing post: Why doesn't this compile?\n",
      "Processing post: [HTML, CSS, Flask/Jinja] How do I display a serial counter in an HTML table that's in a 'for' loop?\n",
      "Processing post: Should i learn anything else before Swift?\n",
      "Processing post: Topics for Semester Project\n",
      "Processing post: Split a string by empty entries\n",
      "Processing post: [PHP, Ruby, or other] Parsing text of website and displaying it on on my local homepage - language and getting started question\n",
      "Processing post: What factors do Python developers consider when choosing which implementation to use?\n",
      "Processing post: Creating a program to enter .csv data into web forms.\n",
      "Processing post: [Google script] \"Cannot convert Range to (class)\" error when using .getRange(row, numRows, column, numColumns)\n",
      "Processing post: [QUESTION] Password program issue\n",
      "Processing subreddit: Datasets Archive\n"
     ]
    }
   ],
   "source": [
    "\"\"\"\n",
    "Grab data using sql database\n",
    "\"\"\"\n",
    "reload(redditDataset)\n",
    "subreddits = redditDataset.getSubreddits(r, ['learnprogramming', 'datasets'])\n",
    "redditDataset.createDataset(r, subreddits, dateRange='hour', nCommentsPerSubmission=20)"
   ]
  },
  {
   "cell_type": "code",
   "execution_count": null,
   "metadata": {
    "collapsed": false,
    "scrolled": false
   },
   "outputs": [
    {
     "name": "stdout",
     "output_type": "stream",
     "text": [
      "Processing subreddit: funny\n",
      "Processing post: Daylight Savings starts this Sunday\n",
      "Processing post: The only practical use for virtual reality\n",
      "Processing post: The blind leading the blind, my 65 year old dad shows my 73 year old father in law, how to use the Facebook\n",
      "Processing post: Dedicated to grandpa\n",
      "Processing post: Don't tell me what I can't do!\n",
      "Processing post: I moved out and my dad said they turned my room into a gym\n",
      "Processing post: My attentive husband playing with our daughter.\n",
      "Processing post: No it does not.\n",
      "Processing post: I've heard of \"painting yourself into a corner\" but my wife took it a step further. I don't even know...\n",
      "Processing post: If you like your steak well-done, you don't really like steak, do you?\n",
      "Processing post: Correlation is not... oh wait, yes. Yes it is.\n",
      "Processing post: My friend's cat fell asleep sitting up... This was the result.\n",
      "Processing post: So I send my sister a snapchat of a party I had when my parents where gone. She sent me this back. (It's my dad)\n",
      "Processing post: Nick Offerman dropping think bombs\n",
      "Processing post: Kids today\n",
      "Processing post: How I imagine porn actresses react during their first video\n",
      "Processing post: He needs life alert\n",
      "Processing post: Every single time\n",
      "Processing post: Doc McStuffins is now on the Do Not Watch list\n",
      "Processing post: Chris Pratt gets pranked\n",
      "Processing post: Marijuana is terrible\n",
      "Processing post: That look of shock\n",
      "Processing post: Guess that would be for a beat down\n",
      "Processing post: Who wore it better?\n",
      "Processing post: Freak\n",
      "Processing post: Book Gandalf was a sarcastic smartass\n",
      "Processing post: Bad luck Brian ....Level 99\n",
      "Processing post: Sometimes the world's needs a reminder\n",
      "Processing post: Nice anus tent\n",
      "Processing post: You can't be serious...\n",
      "Processing post: Oh, you have.\n",
      "Processing post: Racial Slurs\n",
      "Processing post: Friend of mine found a bomb in work today ! (light NSFW) - Album on Imgur\n",
      "Processing post: Golden Girls in regards to lesbians\n",
      "Processing post: Just an ATM, during Spring Break, in Panama City Beach. Looks legit....\n",
      "Processing post: Thanks Andy!\n",
      "Processing post: The real instrument of the south\n",
      "Processing post: Jill is given a task\n",
      "Processing post: What the fuck, Amazon?\n",
      "Processing post: 72 degrees right now in Alabama with a low of 18 in the morning and ice storms imminent.\n",
      "Processing post: Weather in the Mid-South today\n",
      "Processing post: Thank you, android, for reminding me\n",
      "Processing post: Sister snuck this into my bathroom while I was in the shower. Never been so scared in my life.\n",
      "Processing post: Dumbleburn\n",
      "Processing post: Johnny Depp the mailman...is actually just Eric.\n",
      "Processing post: \"It was the drink that killed him...\" [Mrs. Doubtfire]"
     ]
    }
   ],
   "source": [
    "\"\"\"\n",
    "Get big dataset\n",
    "\"\"\"\n",
    "reload(redditDataset)\n",
    "subreddits = r.get_popular_subreddits(limit=100)\n",
    "redditDataset.createDataset(r, subreddits, dateRange='week', dbName='pop100OneWeek150309')"
   ]
  },
  {
   "cell_type": "code",
   "execution_count": 5,
   "metadata": {
    "collapsed": false,
    "scrolled": true
   },
   "outputs": [
    {
     "name": "stdout",
     "output_type": "stream",
     "text": [
      "> \u001b[1;32md:\\documents\\github\\ipython-notebooks\\redditdataset.py\u001b[0m(125)\u001b[0;36msaveCommentData\u001b[1;34m()\u001b[0m\n",
      "\u001b[1;32m    124 \u001b[1;33m    \u001b[0mcommentDateStr\u001b[0m \u001b[1;33m=\u001b[0m \u001b[0mcommentDate\u001b[0m\u001b[1;33m.\u001b[0m\u001b[0mstrftime\u001b[0m\u001b[1;33m(\u001b[0m\u001b[1;34m'%Y%m%d%H%M%S'\u001b[0m\u001b[1;33m)\u001b[0m\u001b[1;33m\u001b[0m\u001b[0m\n",
      "\u001b[0m\u001b[1;32m--> 125 \u001b[1;33m    \u001b[0muserName\u001b[0m \u001b[1;33m=\u001b[0m \u001b[0mcomment\u001b[0m\u001b[1;33m.\u001b[0m\u001b[0mauthor\u001b[0m\u001b[1;33m.\u001b[0m\u001b[0mname\u001b[0m\u001b[1;33m\u001b[0m\u001b[0m\n",
      "\u001b[0m\u001b[1;32m    126 \u001b[1;33m    \u001b[0mbody\u001b[0m \u001b[1;33m=\u001b[0m \u001b[0mcomment\u001b[0m\u001b[1;33m.\u001b[0m\u001b[0mbody\u001b[0m\u001b[1;33m\u001b[0m\u001b[0m\n",
      "\u001b[0m\n",
      "ipdb> comment\n",
      "<praw.objects.Comment object at 0x0000000006281588>\n",
      "ipdb> comment.author\n",
      "ipdb> comment.author\n",
      "ipdb> dir(comment)\n",
      "['__class__', '__delattr__', '__dict__', '__doc__', '__eq__', '__format__', '__getattr__', '__getattribute__', '__hash__', '__init__', '__module__', '__ne__', '__new__', '__reduce__', '__reduce_ex__', '__repr__', '__setattr__', '__sizeof__', '__str__', '__subclasshook__', '__unicode__', '__weakref__', '_fast_permalink', '_get_json_dict', '_info_url', '_populate', '_replies', '_submission', '_underscore_names', '_update_submission', 'approve', 'approved_by', 'archived', 'author', 'author_flair_css_class', 'author_flair_text', 'banned_by', 'body', 'body_html', 'clear_vote', 'controversiality', 'created', 'created_utc', 'delete', 'distinguish', 'distinguished', 'downs', 'downvote', 'edit', 'edited', 'from_api_response', 'fullname', 'gild', 'gilded', 'has_fetched', 'id', 'ignore_reports', 'is_root', 'json_dict', 'likes', 'link_id', 'mark_as_read', 'mark_as_unread', 'mod_reports', 'name', 'num_reports', 'parent_id', 'permalink', 'reddit_session', 'refresh', 'remove', 'replies', 'reply', 'report', 'report_reasons', 'save', 'saved', 'score', 'score_hidden', 'submission', 'subreddit', 'subreddit_id', 'undistinguish', 'unignore_reports', 'unsave', 'ups', 'upvote', 'user_reports', 'vote']\n",
      "ipdb> comment.body\n",
      "u'[deleted]'\n",
      "ipdb> comment.deleted\n",
      "*** AttributeError: '<class 'praw.objects.Comment'>' has no attribute 'deleted'\n",
      "ipdb> comment.delete\n",
      "<bound method Comment.delete of <praw.objects.Comment object at 0x0000000006281588>>\n",
      "ipdb> comment.edited\n",
      "False\n",
      "ipdb> comment.banned_by\n",
      "ipdb> comment.banned_by\n",
      "ipdb> comment.fullname\n",
      "u't1_cp25axd'\n",
      "ipdb> comment.subreddit\n",
      "Subreddit(subreddit_name='funny')\n",
      "ipdb> comment.author\n",
      "ipdb> comment.author == None\n",
      "True\n",
      "ipdb> exit\n",
      "\n",
      "KeyboardInterrupt\n"
     ]
    }
   ],
   "source": [
    "%debug"
   ]
  },
  {
   "cell_type": "code",
   "execution_count": null,
   "metadata": {
    "collapsed": true
   },
   "outputs": [],
   "source": []
  }
 ],
 "metadata": {
  "kernelspec": {
   "display_name": "Python 2",
   "language": "python",
   "name": "python2"
  },
  "language_info": {
   "codemirror_mode": {
    "name": "ipython",
    "version": 2
   },
   "file_extension": ".py",
   "mimetype": "text/x-python",
   "name": "python",
   "nbconvert_exporter": "python",
   "pygments_lexer": "ipython2",
   "version": "2.7.8"
  }
 },
 "nbformat": 4,
 "nbformat_minor": 0
}
